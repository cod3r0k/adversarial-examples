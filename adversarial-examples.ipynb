{
 "cells": [
  {
   "cell_type": "code",
   "execution_count": 1,
   "metadata": {},
   "outputs": [
    {
     "name": "stderr",
     "output_type": "stream",
     "text": [
      "/home/divyam/hackerearth/projects/lib/python3.6/importlib/_bootstrap.py:219: RuntimeWarning: compiletime version 3.5 of module 'tensorflow.python.framework.fast_tensor_util' does not match runtime version 3.6\n",
      "  return f(*args, **kwds)\n"
     ]
    }
   ],
   "source": [
    "import tensorflow as tf\n",
    "import numpy as np\n",
    "import matplotlib.pyplot as plt\n",
    "%matplotlib inline\n",
    "from tensorflow.examples.tutorials.mnist import input_data\n",
    "from tqdm import tqdm"
   ]
  },
  {
   "cell_type": "code",
   "execution_count": 2,
   "metadata": {},
   "outputs": [
    {
     "name": "stdout",
     "output_type": "stream",
     "text": [
      "Extracting MNIST_data/train-images-idx3-ubyte.gz\n",
      "Extracting MNIST_data/train-labels-idx1-ubyte.gz\n",
      "Extracting MNIST_data/t10k-images-idx3-ubyte.gz\n",
      "Extracting MNIST_data/t10k-labels-idx1-ubyte.gz\n"
     ]
    }
   ],
   "source": [
    "#Read the input data\n",
    "mnist = input_data.read_data_sets(\"MNIST_data/\", one_hot=True)"
   ]
  },
  {
   "cell_type": "code",
   "execution_count": 3,
   "metadata": {},
   "outputs": [
    {
     "name": "stdout",
     "output_type": "stream",
     "text": [
      "Training image shape (55000, 784)\n",
      "Training labels shape (55000, 10)\n",
      "Shape of an image (1, 784)\n"
     ]
    },
    {
     "data": {
      "text/plain": [
       "<matplotlib.image.AxesImage at 0x7f12bc3f0550>"
      ]
     },
     "execution_count": 3,
     "metadata": {},
     "output_type": "execute_result"
    },
    {
     "data": {
      "image/png": "[encoded data removed]",
      "text/plain": [
       "<matplotlib.figure.Figure at 0x7f12be40cb38>"
      ]
     },
     "metadata": {},
     "output_type": "display_data"
    }
   ],
   "source": [
    "#Explore the data\n",
    "sample_image = mnist.train.next_batch(1)[0]\n",
    "print(\"Training image shape\", mnist.train.images.shape)\n",
    "print(\"Training labels shape\", mnist.train.labels.shape)\n",
    "print(\"Shape of an image\", sample_image.shape)\n",
    "sample_image = sample_image.reshape([28, 28])\n",
    "plt.imshow(sample_image)"
   ]
  },
  {
   "cell_type": "code",
   "execution_count": 4,
   "metadata": {},
   "outputs": [],
   "source": [
    "image_size = 28\n",
    "labels_size = 10\n",
    "learning_rate = 0.05\n",
    "steps_number = 1000\n",
    "batch_size = 100"
   ]
  },
  {
   "cell_type": "code",
   "execution_count": 5,
   "metadata": {},
   "outputs": [],
   "source": [
    "# Placeholder is a value that we input when we ask TensorFlow to run a computation.\n",
    "x = tf.placeholder(tf.float32, shape = [None,784])\n",
    "y_ = tf.placeholder(tf.float32, shape = [None, 10])"
   ]
  },
  {
   "cell_type": "code",
   "execution_count": 6,
   "metadata": {},
   "outputs": [],
   "source": [
    "# Functions for weights\n",
    "def weight_variable(shape):\n",
    "    initial = tf.truncated_normal(shape, stddev=0.1)\n",
    "    return tf.Variable(initial)\n",
    "\n",
    "# Function for bias\n",
    "def bias_variable(shape):\n",
    "    initial = tf.constant(0.1, shape=shape)\n",
    "    return tf.Variable(initial)\n",
    "\n",
    "# Functions for convolution with stride = 1 and padding = 0\n",
    "def conv2d(x, W):\n",
    "    return tf.nn.conv2d(x, W, strides=[1,1,1,1], padding='SAME')\n",
    "\n",
    "# Function for max pooling over 2*2 blocks\n",
    "def max_pooling_2x2(x):\n",
    "    return tf.nn.max_pool(x, ksize=[1,2,2,1], strides=[1,2,2,1], padding='SAME')"
   ]
  },
  {
   "cell_type": "code",
   "execution_count": 7,
   "metadata": {},
   "outputs": [],
   "source": [
    "# The architecture is similar to https://www.tensorflow.org/get_started/mnist/pros\n",
    "\n",
    "# Input layer where single input image shape is (1,784)\n",
    "x_image = tf.reshape(x, [-1,28,28,1])\n",
    "\n",
    "# Convolution layer 1 - 32 x 5 x 5 \n",
    "# Conv -> BatchNorm -> Relu -> Max_pool\n",
    "W_conv1 = weight_variable([5, 5, 1, 32])\n",
    "b_conv1 = bias_variable([32])\n",
    "x_conv1 = conv2d(x_image, W_conv1) + b_conv1\n",
    "y1 = tf.nn.relu(tf.layers.batch_normalization(x_conv1))\n",
    "x_pool1 = max_pooling_2x2(y1)\n",
    "\n",
    "# Conv layer 2 - 64 x 5 x 5\n",
    "# Conv -> BatchNorm -> Relu -> Max_pool\n",
    "W_conv2 = weight_variable([5, 5, 32, 64])\n",
    "b_conv2 = bias_variable([64])\n",
    "x_conv2 = conv2d(x_pool1, W_conv2) + b_conv2\n",
    "y2 = tf.nn.relu(tf.layers.batch_normalization(x_conv2))\n",
    "x_pool2 = max_pooling_2x2(y2)\n",
    "\n",
    "# Flatten \n",
    "x_flat = tf.reshape(x_pool2, [-1, 7 * 7 * 64])\n",
    "\n",
    "# Dense fully connected layer\n",
    "W_fc1 = weight_variable([7 * 7 * 64, 1024]) # max pooling reduced image to 7x7\n",
    "b_fc1 = bias_variable([1024])\n",
    "x_fc1 = tf.nn.relu(tf.layers.batch_normalization(tf.matmul(x_flat, W_fc1) + b_fc1))\n",
    "\n",
    "# Dropout\n",
    "keep_prob = tf.placeholder(tf.float32)\n",
    "x_fc1_drop = tf.nn.dropout(x_fc1, keep_prob)\n",
    "\n",
    "# Classification layer\n",
    "W_fc2 = weight_variable([1024, 10])\n",
    "b_fc2 = bias_variable([10])\n",
    "y_conv = tf.matmul(x_fc1_drop, W_fc2) + b_fc2"
   ]
  },
  {
   "cell_type": "code",
   "execution_count": 8,
   "metadata": {},
   "outputs": [],
   "source": [
    "# Probabilities output from model\n",
    "y = tf.nn.softmax(y_conv)\n",
    "\n",
    "# Loss and Adam optimizer\n",
    "cross_entropy = tf.reduce_mean(tf.nn.softmax_cross_entropy_with_logits(labels = y_, logits=y_conv))\n",
    "train_step = tf.train.AdamOptimizer(1e-4).minimize(cross_entropy)"
   ]
  },
  {
   "cell_type": "code",
   "execution_count": 9,
   "metadata": {},
   "outputs": [],
   "source": [
    "# Test accuracy of model\n",
    "correct_prediction = tf.equal(tf.argmax(y_conv,1), tf.argmax(y_,1))\n",
    "accuracy = tf.reduce_mean(tf.cast(correct_prediction, tf.float32))"
   ]
  },
  {
   "cell_type": "code",
   "execution_count": 10,
   "metadata": {},
   "outputs": [],
   "source": [
    "sess = tf.InteractiveSession()\n",
    "sess.run(tf.global_variables_initializer())"
   ]
  },
  {
   "cell_type": "code",
   "execution_count": 11,
   "metadata": {},
   "outputs": [
    {
     "name": "stderr",
     "output_type": "stream",
     "text": [
      "\r",
      "  0%|          | 0/1000 [00:00<?, ?it/s]"
     ]
    },
    {
     "name": "stdout",
     "output_type": "stream",
     "text": [
      "Epoch 0, training accuracy 0.07\n"
     ]
    },
    {
     "name": "stderr",
     "output_type": "stream",
     "text": [
      " 20%|██        | 200/1000 [02:22<09:31,  1.40it/s]"
     ]
    },
    {
     "name": "stdout",
     "output_type": "stream",
     "text": [
      "Epoch 200, training accuracy 0.88\n"
     ]
    },
    {
     "name": "stderr",
     "output_type": "stream",
     "text": [
      " 40%|████      | 400/1000 [04:42<07:04,  1.41it/s]"
     ]
    },
    {
     "name": "stdout",
     "output_type": "stream",
     "text": [
      "Epoch 400, training accuracy 0.91\n"
     ]
    },
    {
     "name": "stderr",
     "output_type": "stream",
     "text": [
      " 60%|██████    | 600/1000 [07:54<05:16,  1.26it/s]"
     ]
    },
    {
     "name": "stdout",
     "output_type": "stream",
     "text": [
      "Epoch 600, training accuracy 0.95\n"
     ]
    },
    {
     "name": "stderr",
     "output_type": "stream",
     "text": [
      " 80%|████████  | 800/1000 [10:22<02:35,  1.28it/s]"
     ]
    },
    {
     "name": "stdout",
     "output_type": "stream",
     "text": [
      "Epoch 800, training accuracy 0.98\n"
     ]
    },
    {
     "name": "stderr",
     "output_type": "stream",
     "text": [
      "100%|██████████| 1000/1000 [12:55<00:00,  1.29it/s]\n"
     ]
    }
   ],
   "source": [
    "# Train model\n",
    "for i in tqdm(range(1000)):\n",
    "    batch = mnist.train.next_batch(100)\n",
    "    if i%200 == 0:\n",
    "        train_accuracy = accuracy.eval(feed_dict={x:batch[0], y_: batch[1], keep_prob: 1.0})\n",
    "        print(\"Epoch %d, training accuracy %g\"%(i, train_accuracy))\n",
    "\n",
    "    train_step.run(feed_dict={x: batch[0], y_: batch[1], keep_prob: 0.4})"
   ]
  },
  {
   "cell_type": "code",
   "execution_count": 12,
   "metadata": {},
   "outputs": [
    {
     "name": "stdout",
     "output_type": "stream",
     "text": [
      "0.98\n",
      "[ 0.  1.  0. ...,  0.  0.  0.]\n"
     ]
    },
    {
     "data": {
      "text/plain": [
       "'./classifier'"
      ]
     },
     "execution_count": 12,
     "metadata": {},
     "output_type": "execute_result"
    }
   ],
   "source": [
    "print(train_accuracy)\n",
    "print((mnist.test.labels[:,2]))\n",
    "#Save model\n",
    "saver = tf.train.Saver()\n",
    "saver.save(sess, \"./classifier\")"
   ]
  },
  {
   "cell_type": "code",
   "execution_count": 13,
   "metadata": {},
   "outputs": [
    {
     "name": "stdout",
     "output_type": "stream",
     "text": [
      "[   1   35   38 ..., 9980 9985 9995]\n",
      "[ 980 8810 6321 8253 7163 9995 5272 6123 4260 7909]\n"
     ]
    }
   ],
   "source": [
    "# Fetch 10 2's images\n",
    "index_mask = np.where(mnist.test.labels[:, 2])[0]\n",
    "print(index_mask)\n",
    "subset_mask = np.random.choice(index_mask, 10)\n",
    "print(subset_mask)"
   ]
  },
  {
   "cell_type": "code",
   "execution_count": 14,
   "metadata": {},
   "outputs": [
    {
     "data": {
      "text/plain": [
       "array([[ 0.,  0.,  1.,  0.,  0.,  0.,  0.,  0.,  0.,  0.],\n",
       "       [ 0.,  0.,  1.,  0.,  0.,  0.,  0.,  0.,  0.,  0.],\n",
       "       [ 0.,  0.,  1.,  0.,  0.,  0.,  0.,  0.,  0.,  0.],\n",
       "       [ 0.,  0.,  1.,  0.,  0.,  0.,  0.,  0.,  0.,  0.],\n",
       "       [ 0.,  0.,  1.,  0.,  0.,  0.,  0.,  0.,  0.,  0.],\n",
       "       [ 0.,  0.,  1.,  0.,  0.,  0.,  0.,  0.,  0.,  0.],\n",
       "       [ 0.,  0.,  1.,  0.,  0.,  0.,  0.,  0.,  0.,  0.],\n",
       "       [ 0.,  0.,  1.,  0.,  0.,  0.,  0.,  0.,  0.,  0.],\n",
       "       [ 0.,  0.,  1.,  0.,  0.,  0.,  0.,  0.,  0.,  0.],\n",
       "       [ 0.,  0.,  1.,  0.,  0.,  0.,  0.,  0.,  0.,  0.]])"
      ]
     },
     "execution_count": 14,
     "metadata": {},
     "output_type": "execute_result"
    }
   ],
   "source": [
    "# Display the labels of the selected images\n",
    "original_images = mnist.test.images[subset_mask]\n",
    "original_labels = mnist.test.labels[subset_mask]\n",
    "original_labels"
   ]
  },
  {
   "cell_type": "code",
   "execution_count": 15,
   "metadata": {},
   "outputs": [
    {
     "name": "stdout",
     "output_type": "stream",
     "text": [
      "predictions [2 2 2 2 2 2 2 2 2 2]\n",
      "probabilities [[  9.95959999e-06   1.08491186e-04   9.99706089e-01   6.21399086e-05\n",
      "    5.57010799e-06   2.54786710e-06   6.44368847e-05   6.45166665e-06\n",
      "    2.83060708e-05   5.98757651e-06]\n",
      " [  3.84693578e-07   1.23574796e-06   9.99990463e-01   5.02045441e-06\n",
      "    5.04333002e-08   1.01335562e-08   9.64718510e-08   1.56562328e-06\n",
      "    1.08618235e-06   3.17489679e-08]\n",
      " [  1.62354667e-07   2.78594676e-08   9.99998450e-01   6.03595993e-07\n",
      "    4.86613372e-09   5.91751703e-10   5.62751779e-07   9.40936076e-08\n",
      "    4.08400389e-08   2.51385615e-08]\n",
      " [  1.42668039e-04   6.52702365e-05   9.88692760e-01   1.50448328e-03\n",
      "    7.19349273e-03   7.87782119e-06   9.41965191e-05   1.37351034e-03\n",
      "    3.91234353e-04   5.34575433e-04]\n",
      " [  4.01252828e-06   1.29469190e-05   9.98051882e-01   3.63744075e-05\n",
      "    4.81476036e-07   4.09673419e-07   6.38612960e-07   1.87748135e-03\n",
      "    1.40831162e-05   1.77837990e-06]\n",
      " [  1.64998923e-07   3.80326696e-07   9.99991298e-01   3.91188405e-06\n",
      "    7.20142501e-10   2.58845056e-09   7.28176008e-09   2.68209374e-06\n",
      "    1.52933501e-06   4.46012338e-09]\n",
      " [  3.79372516e-08   1.67851070e-07   9.99976635e-01   7.62319769e-06\n",
      "    5.29102024e-08   7.12923232e-09   1.15407573e-07   2.43278777e-07\n",
      "    1.50779479e-05   3.16709929e-08]\n",
      " [  1.49746000e-07   6.81269512e-07   9.99995828e-01   1.67299675e-06\n",
      "    8.95500687e-11   1.98734740e-09   5.39604592e-08   1.44602319e-09\n",
      "    1.67083624e-06   1.21689978e-10]\n",
      " [  5.83058718e-05   5.05041098e-04   9.92950201e-01   3.73567408e-03\n",
      "    7.66517701e-07   2.19349704e-06   8.02008572e-07   2.71338667e-03\n",
      "    1.83434495e-05   1.53123692e-05]\n",
      " [  4.06473526e-04   4.65879530e-05   9.93624330e-01   1.00310822e-03\n",
      "    2.80133769e-04   3.67480461e-05   1.50150299e-04   9.86005543e-05\n",
      "    1.62634067e-03   2.72734067e-03]]\n"
     ]
    }
   ],
   "source": [
    "# Predict the model on the selected 10 2's samples\n",
    "prediction = tf.argmax(y,1)\n",
    "prediction_val = prediction.eval(feed_dict={x: original_images, keep_prob: 1.0}, session=sess)\n",
    "print(\"predictions\", prediction_val)\n",
    "probabilities = y\n",
    "probabilities_val = probabilities.eval(feed_dict={x: original_images, keep_prob: 1.0}, session=sess)\n",
    "print (\"probabilities\", probabilities_val)"
   ]
  },
  {
   "cell_type": "code",
   "execution_count": 16,
   "metadata": {},
   "outputs": [
    {
     "name": "stdout",
     "output_type": "stream",
     "text": [
      "Correct label 2\n",
      "Predicted label: 2\n",
      "Confidence: 0.999706\n"
     ]
    },
    {
     "data": {
      "image/png": "[encoded data removed]",
      "text/plain": [
       "<matplotlib.figure.Figure at 0x7f12bbec8320>"
      ]
     },
     "metadata": {},
     "output_type": "display_data"
    },
    {
     "name": "stdout",
     "output_type": "stream",
     "text": [
      "Correct label 2\n",
      "Predicted label: 2\n",
      "Confidence: 0.99999\n"
     ]
    },
    {
     "data": {
      "image/png": "[encoded data removed]",
      "text/plain": [
       "<matplotlib.figure.Figure at 0x7f12bbc1c4e0>"
      ]
     },
     "metadata": {},
     "output_type": "display_data"
    },
    {
     "name": "stdout",
     "output_type": "stream",
     "text": [
      "Correct label 2\n",
      "Predicted label: 2\n",
      "Confidence: 0.999998\n"
     ]
    },
    {
     "data": {
      "image/png": "[encoded data removed]",
      "text/plain": [
       "<matplotlib.figure.Figure at 0x7f12bbc61cf8>"
      ]
     },
     "metadata": {},
     "output_type": "display_data"
    },
    {
     "name": "stdout",
     "output_type": "stream",
     "text": [
      "Correct label 2\n",
      "Predicted label: 2\n",
      "Confidence: 0.988693\n"
     ]
    },
    {
     "data": {
      "image/png": "[encoded data removed]",
      "text/plain": [
       "<matplotlib.figure.Figure at 0x7f12bbd11a90>"
      ]
     },
     "metadata": {},
     "output_type": "display_data"
    },
    {
     "name": "stdout",
     "output_type": "stream",
     "text": [
      "Correct label 2\n",
      "Predicted label: 2\n",
      "Confidence: 0.998052\n"
     ]
    },
    {
     "data": {
      "image/png": "[encoded data removed]",
      "text/plain": [
       "<matplotlib.figure.Figure at 0x7f12bbc016a0>"
      ]
     },
     "metadata": {},
     "output_type": "display_data"
    },
    {
     "name": "stdout",
     "output_type": "stream",
     "text": [
      "Correct label 2\n",
      "Predicted label: 2\n",
      "Confidence: 0.999991\n"
     ]
    },
    {
     "data": {
      "image/png": "[encoded data removed]",
      "text/plain": [
       "<matplotlib.figure.Figure at 0x7f12bbcba550>"
      ]
     },
     "metadata": {},
     "output_type": "display_data"
    },
    {
     "name": "stdout",
     "output_type": "stream",
     "text": [
      "Correct label 2\n",
      "Predicted label: 2\n",
      "Confidence: 0.999977\n"
     ]
    },
    {
     "data": {
      "image/png": "[encoded data removed]",
      "text/plain": [
       "<matplotlib.figure.Figure at 0x7f12bbc9ed30>"
      ]
     },
     "metadata": {},
     "output_type": "display_data"
    },
    {
     "name": "stdout",
     "output_type": "stream",
     "text": [
      "Correct label 2\n",
      "Predicted label: 2\n",
      "Confidence: 0.999996\n"
     ]
    },
    {
     "data": {
      "image/png": "[encoded data removed]",
      "text/plain": [
       "<matplotlib.figure.Figure at 0x7f12bbbc56d8>"
      ]
     },
     "metadata": {},
     "output_type": "display_data"
    },
    {
     "name": "stdout",
     "output_type": "stream",
     "text": [
      "Correct label 2\n",
      "Predicted label: 2\n",
      "Confidence: 0.99295\n"
     ]
    },
    {
     "data": {
      "image/png": "[encoded data removed]",
      "text/plain": [
       "<matplotlib.figure.Figure at 0x7f12bbbb0e10>"
      ]
     },
     "metadata": {},
     "output_type": "display_data"
    },
    {
     "name": "stdout",
     "output_type": "stream",
     "text": [
      "Correct label 2\n",
      "Predicted label: 2\n",
      "Confidence: 0.993624\n"
     ]
    },
    {
     "data": {
      "image/png": "[encoded data removed]",
      "text/plain": [
       "<matplotlib.figure.Figure at 0x7f12bbb5a748>"
      ]
     },
     "metadata": {},
     "output_type": "display_data"
    }
   ],
   "source": [
    "# Show the original images, correct, predicted label and confidence\n",
    "for i in range(0, 10):\n",
    "    print('Correct label', np.argmax(original_labels[i]))\n",
    "    print('Predicted label:', prediction_val[i])\n",
    "    print('Confidence:', np.max(probabilities_val[i]))\n",
    "    plt.figure(figsize=(2, 2))\n",
    "    plt.axis('off')\n",
    "    plt.imshow(original_images[i].reshape([28, 28]),cmap = \"gray\")\n",
    "    plt.show()"
   ]
  },
  {
   "cell_type": "code",
   "execution_count": 17,
   "metadata": {},
   "outputs": [],
   "source": [
    "# Set the target label as 6\n",
    "target_number = 6\n",
    "target_labels = np.zeros(original_labels.shape)\n",
    "target_labels[:, target_number] = 1"
   ]
  },
  {
   "cell_type": "code",
   "execution_count": 18,
   "metadata": {},
   "outputs": [
    {
     "data": {
      "text/plain": [
       "array([[ 0.,  0.,  0.,  0.,  0.,  0.,  1.,  0.,  0.,  0.],\n",
       "       [ 0.,  0.,  0.,  0.,  0.,  0.,  1.,  0.,  0.,  0.],\n",
       "       [ 0.,  0.,  0.,  0.,  0.,  0.,  1.,  0.,  0.,  0.],\n",
       "       [ 0.,  0.,  0.,  0.,  0.,  0.,  1.,  0.,  0.,  0.],\n",
       "       [ 0.,  0.,  0.,  0.,  0.,  0.,  1.,  0.,  0.,  0.],\n",
       "       [ 0.,  0.,  0.,  0.,  0.,  0.,  1.,  0.,  0.,  0.],\n",
       "       [ 0.,  0.,  0.,  0.,  0.,  0.,  1.,  0.,  0.,  0.],\n",
       "       [ 0.,  0.,  0.,  0.,  0.,  0.,  1.,  0.,  0.,  0.],\n",
       "       [ 0.,  0.,  0.,  0.,  0.,  0.,  1.,  0.,  0.,  0.],\n",
       "       [ 0.,  0.,  0.,  0.,  0.,  0.,  1.,  0.,  0.,  0.]])"
      ]
     },
     "execution_count": 18,
     "metadata": {},
     "output_type": "execute_result"
    }
   ],
   "source": [
    "target_labels"
   ]
  },
  {
   "cell_type": "code",
   "execution_count": 19,
   "metadata": {},
   "outputs": [],
   "source": [
    "img_gradient = tf.gradients(cross_entropy, x)[0]"
   ]
  },
  {
   "cell_type": "code",
   "execution_count": 20,
   "metadata": {},
   "outputs": [],
   "source": [
    "step_size = 0.5 #The amount to wiggle towards the gradient of target class.\n",
    "steps = 10"
   ]
  },
  {
   "cell_type": "code",
   "execution_count": 21,
   "metadata": {},
   "outputs": [
    {
     "name": "stdout",
     "output_type": "stream",
     "text": [
      "predictions [2 2 2 2 2 2 2 2 2 2]\n",
      "Confidence 2: [ 0.99817228  0.9999429   0.99998415  0.96527618  0.99375474  0.99996448\n",
      "  0.99988294  0.99997246  0.97816467  0.9658851 ]\n",
      "Confidence 6: [  9.57073993e-04   2.63057404e-06   1.10485480e-05   7.40761985e-04\n",
      "   7.08008929e-06   1.07875401e-07   2.24455425e-06   1.30250555e-06\n",
      "   1.20158102e-05   2.60757119e-03]\n",
      "predictions [2 2 2 2 2 2 2 2 2 2]\n",
      "Confidence 2: [ 0.98008841  0.99957615  0.99976188  0.89551318  0.9808256   0.99984884\n",
      "  0.99940324  0.99979383  0.92620164  0.85679823]\n",
      "Confidence 6: [  1.63573176e-02   8.10919228e-05   2.16041226e-04   6.01334311e-03\n",
      "   8.54372556e-05   1.73322906e-06   4.65918565e-05   3.25475412e-05\n",
      "   2.39301109e-04   2.97996588e-02]\n",
      "predictions [2 2 2 2 2 2 2 2 2 2]\n",
      "Confidence 2: [ 0.8519398   0.99645799  0.99734443  0.78262007  0.9597944   0.99940848\n",
      "  0.99735153  0.99859053  0.83263677  0.62517703]\n",
      "Confidence 6: [  1.37518376e-01   1.79526117e-03   2.55733193e-03   3.04192286e-02\n",
      "   6.25863264e-04   2.00184222e-05   6.91425172e-04   4.91149025e-04\n",
      "   2.93489220e-03   1.49114728e-01]\n",
      "predictions [2 2 2 2 2 2 2 2 2 2]\n",
      "Confidence 2: [ 0.52773285  0.97108716  0.9778651   0.64610094  0.92288232  0.99771643\n",
      "  0.98760474  0.98844439  0.68903697  0.40078753]\n",
      "Confidence 6: [  4.57250535e-01   2.16803048e-02   2.18097046e-02   9.78818014e-02\n",
      "   3.29258270e-03   2.13770298e-04   6.35674922e-03   6.89045480e-03\n",
      "   2.09192000e-02   3.53572845e-01]\n",
      "predictions [6 2 2 2 2 2 2 2 2 6]\n",
      "Confidence 2: [ 0.30066612  0.83160788  0.88026559  0.49603093  0.8621605   0.99146569\n",
      "  0.94097894  0.917817    0.49866551  0.25729653]\n",
      "Confidence 6: [ 0.68539792  0.14890067  0.1189202   0.23349088  0.01457186  0.00166885\n",
      "  0.04399349  0.06653078  0.10668562  0.54005909]\n",
      "predictions [6 2 2 6 2 2 2 2 2 6]\n",
      "Confidence 2: [ 0.20168908  0.52895188  0.65542704  0.34800619  0.78294879  0.96720636\n",
      "  0.7825864   0.64849842  0.33591485  0.1836123 ]\n",
      "Confidence 6: [ 0.78663611  0.44268909  0.34328988  0.4009465   0.05938482  0.01197196\n",
      "  0.19334927  0.31520975  0.27723962  0.6534878 ]\n",
      "predictions [6 6 6 6 2 2 6 6 6 6]\n",
      "Confidence 2: [ 0.15051781  0.31439728  0.42411673  0.26049587  0.6503343   0.88481182\n",
      "  0.45906299  0.34159902  0.21018811  0.14082766]\n",
      "Confidence 6: [ 0.83921379  0.65901154  0.57441908  0.53298622  0.17311339  0.06442005\n",
      "  0.51356214  0.61945915  0.46541107  0.72304243]\n",
      "predictions [6 6 6 6 2 2 6 6 6 6]\n",
      "Confidence 2: [ 0.12090796  0.21635292  0.28812802  0.19584072  0.48329335  0.65472692\n",
      "  0.25833488  0.20851034  0.14545093  0.1126199 ]\n",
      "Confidence 6: [ 0.86988902  0.75996983  0.71045327  0.63392013  0.35473976  0.25080702\n",
      "  0.71847373  0.75684392  0.59605783  0.77225512]\n",
      "predictions [6 6 6 6 6 6 6 6 6 6]\n",
      "Confidence 2: [ 0.1008132   0.1624376   0.21312737  0.15567505  0.33010983  0.38849163\n",
      "  0.1767237   0.14865072  0.10809188  0.0941938 ]\n",
      "Confidence 6: [ 0.8908236   0.81639135  0.78555357  0.70165104  0.54232174  0.51317292\n",
      "  0.80381066  0.82082504  0.67975116  0.80532932]\n",
      "predictions [6 6 6 6 6 6 6 6 6 6]\n",
      "Confidence 2: [ 0.08588916  0.12679362  0.16727637  0.12759894  0.23320685  0.24519061\n",
      "  0.13546439  0.11635479  0.08594755  0.08021584]\n",
      "Confidence 6: [ 0.90641814  0.85431129  0.83149552  0.74886453  0.67054611  0.67179054\n",
      "  0.84782022  0.85603511  0.73491353  0.83079851]\n"
     ]
    }
   ],
   "source": [
    "#Targeted attack using Fast gradient sign method inspired from http://blog.ycombinator.com/how-adversarial-attacks-work/\n",
    "# and http://karpathy.github.io/2015/03/30/breaking-convnets/\n",
    "adversarial_img = original_images.copy()\n",
    "for i in range(0, steps):\n",
    "    gradient = img_gradient.eval({x: adversarial_img, y_: target_labels, keep_prob: 1.0})\n",
    "    #Update using value of gradient\n",
    "    adversarial_img = adversarial_img - step_size * gradient\n",
    "    prediction = tf.argmax(y,1)\n",
    "    prediction_val = prediction.eval(feed_dict={x: adversarial_img, keep_prob: 1.0}, session=sess)\n",
    "    print(\"predictions\", prediction_val)\n",
    "    probabilities = y\n",
    "    probabilities_val = probabilities.eval(feed_dict={x: adversarial_img, keep_prob: 1.0}, session=sess)\n",
    "    print('Confidence 2:', probabilities_val[:, 2])\n",
    "    print('Confidence 6:', probabilities_val[:, 6])"
   ]
  },
  {
   "cell_type": "code",
   "execution_count": 22,
   "metadata": {},
   "outputs": [],
   "source": [
    "step_size = 0.02\n",
    "steps = 10"
   ]
  },
  {
   "cell_type": "code",
   "execution_count": 23,
   "metadata": {},
   "outputs": [
    {
     "name": "stdout",
     "output_type": "stream",
     "text": [
      "predictions [2 2 2 2 2 2 2 2 2 2]\n",
      "Confidence 2: [ 0.99850178  0.99995542  0.99998677  0.96532702  0.99349135  0.99996483\n",
      "  0.99989212  0.99997807  0.97948968  0.97023678]\n",
      "Confidence 6: [  7.56708672e-04   1.52585812e-06   9.22730487e-06   7.49816129e-04\n",
      "   7.25056043e-06   1.27019874e-07   1.61636763e-06   9.24627273e-07\n",
      "   8.46084458e-06   2.13595340e-03]\n",
      "predictions [2 2 2 2 2 2 2 2 2 2]\n",
      "Confidence 2: [ 0.9867112   0.99974805  0.99984503  0.88273764  0.97971922  0.99985313\n",
      "  0.99949217  0.99983644  0.9311974   0.87618339]\n",
      "Confidence 6: [  1.07669914e-02   3.33004500e-05   1.38080475e-04   7.36348471e-03\n",
      "   7.89412661e-05   2.35540597e-06   2.95757982e-05   2.16501921e-05\n",
      "   1.51666172e-04   2.55298950e-02]\n",
      "predictions [2 2 2 2 2 2 2 2 2 2]\n",
      "Confidence 2: [ 0.87390345  0.99837458  0.99792504  0.73838425  0.93449736  0.9992888\n",
      "  0.99754387  0.99886107  0.83644515  0.60820538]\n",
      "Confidence 6: [  1.16723903e-01   5.89118456e-04   2.00599595e-03   4.39718664e-02\n",
      "   7.96154956e-04   3.59661572e-05   4.45649493e-04   3.44315631e-04\n",
      "   2.08655186e-03   1.57432556e-01]\n",
      "predictions [6 2 2 2 2 2 2 2 2 6]\n",
      "Confidence 2: [ 0.43151695  0.98732913  0.97828054  0.51511443  0.83729613  0.99674487\n",
      "  0.98859173  0.99115926  0.66631281  0.28859311]\n",
      "Confidence 6: [  5.52152872e-01   7.92697538e-03   2.14486029e-02   1.95378035e-01\n",
      "   7.04640429e-03   5.09499514e-04   4.88355244e-03   4.75075655e-03\n",
      "   2.06361618e-02   5.02794206e-01]\n",
      "predictions [6 2 2 6 2 2 2 2 2 6]\n",
      "Confidence 2: [ 0.08801853  0.90764171  0.82223296  0.2540074   0.68286061  0.98212737\n",
      "  0.92410219  0.92688411  0.48551491  0.08251216]\n",
      "Confidence 6: [ 0.90243083  0.07649262  0.17701074  0.51050782  0.04444883  0.00578739\n",
      "  0.05513068  0.05640942  0.13190889  0.83389813]\n",
      "predictions [6 2 6 6 2 2 2 2 6 6]\n",
      "Confidence 2: [ 0.01464956  0.53787714  0.3519887   0.09375235  0.51680124  0.90142608\n",
      "  0.60783195  0.57364666  0.20810699  0.01851842]\n",
      "Confidence 6: [ 0.9812904   0.42621407  0.64703625  0.78304833  0.20984204  0.0573965\n",
      "  0.35654339  0.3908231   0.46519321  0.956393  ]\n",
      "predictions [6 6 6 6 6 2 6 6 6 6]\n",
      "Confidence 2: [ 0.0025138   0.14691183  0.06427668  0.03224844  0.2781381   0.59605563\n",
      "  0.17331664  0.16135405  0.04986034  0.00432646]\n",
      "Confidence 6: [ 0.99590755  0.8257376   0.93517733  0.92393947  0.55515176  0.32219228\n",
      "  0.80038702  0.80123311  0.81280529  0.98797798]\n",
      "predictions [6 6 6 6 6 6 6 6 6 6]\n",
      "Confidence 2: [ 0.00047626  0.03007334  0.01091946  0.01148061  0.08096161  0.17682607\n",
      "  0.03197177  0.02886973  0.01227276  0.00113108]\n",
      "Confidence 6: [ 0.99910212  0.95754433  0.98880196  0.97360003  0.86466289  0.76367468\n",
      "  0.95742124  0.9557305   0.9439137   0.99643385]\n",
      "predictions [6 6 6 6 6 6 6 6 6 6]\n",
      "Confidence 2: [ 0.00011646  0.00558831  0.00190899  0.0033051   0.01718221  0.03525661\n",
      "  0.00719591  0.00539983  0.00288961  0.00036013]\n",
      "Confidence 6: [ 0.99976724  0.9898718   0.99795723  0.99157143  0.96972835  0.94203269\n",
      "  0.9899289   0.98980576  0.98318201  0.99881774]\n",
      "predictions [6 6 6 6 6 6 6 6 6 6]\n",
      "Confidence 2: [  3.25946130e-05   1.39165460e-03   3.21743923e-04   1.23969000e-03\n",
      "   3.45435552e-03   6.97328756e-03   1.39670330e-03   9.96103161e-04\n",
      "   1.06643781e-03   1.39624550e-04]\n",
      "Confidence 6: [ 0.99993145  0.99734759  0.99961972  0.99690163  0.99296629  0.98609924\n",
      "  0.9978168   0.99785221  0.99410194  0.99955958]\n"
     ]
    }
   ],
   "source": [
    "adversarial_img = original_images.copy()\n",
    "adv_img_hist = list()\n",
    "prob2_hist = list()\n",
    "prob6_hist = list()\n",
    "for i in range(0, steps):\n",
    "    gradient = img_gradient.eval({x: adversarial_img, y_: target_labels, keep_prob: 1.0})\n",
    "    # Update using sign of gradient and decreasing the step size\n",
    "    adversarial_img = adversarial_img - step_size * np.sign(gradient)\n",
    "    adv_img_hist.append(adversarial_img)\n",
    "    prediction = tf.argmax(y,1)\n",
    "    prediction_val = prediction.eval(feed_dict={x: adversarial_img, keep_prob: 1.0}, session=sess)\n",
    "    print(\"predictions\", prediction_val)\n",
    "    probabilities = y\n",
    "    probabilities_val = probabilities.eval(feed_dict = {x: adversarial_img, keep_prob: 1.0}, session=sess)\n",
    "    print('Confidence 2:', probabilities_val[:, 2])\n",
    "    print('Confidence 6:', probabilities_val[:, 6])\n",
    "prob2_hist.append(probabilities_val[:,2])\n",
    "prob6_hist.append(probabilities_val[:,6])"
   ]
  },
  {
   "cell_type": "code",
   "execution_count": 24,
   "metadata": {},
   "outputs": [
    {
     "name": "stdout",
     "output_type": "stream",
     "text": [
      "Probability of 2 in selected samples  [array([  3.25946130e-05,   1.39165460e-03,   3.21743923e-04,\n",
      "         1.23969000e-03,   3.45435552e-03,   6.97328756e-03,\n",
      "         1.39670330e-03,   9.96103161e-04,   1.06643781e-03,\n",
      "         1.39624550e-04], dtype=float32)]\n",
      "Probability of 6 in selected samples  [array([ 0.99993145,  0.99734759,  0.99961972,  0.99690163,  0.99296629,\n",
      "        0.98609924,  0.9978168 ,  0.99785221,  0.99410194,  0.99955958], dtype=float32)]\n"
     ]
    }
   ],
   "source": [
    "print(\"Probability of 2 in selected samples \",prob2_hist)\n",
    "print(\"Probability of 6 in selected samples \",prob6_hist)"
   ]
  },
  {
   "cell_type": "code",
   "execution_count": 25,
   "metadata": {},
   "outputs": [
    {
     "data": {
      "image/png": "[encoded data removed]",
      "text/plain": [
       "<matplotlib.figure.Figure at 0x7f12bb9f0a58>"
      ]
     },
     "metadata": {},
     "output_type": "display_data"
    }
   ],
   "source": [
    "# Generate the image of 10 samples with original_image, delta and adversarial image\n",
    "f, axarr = plt.subplots(10, 3, figsize=(5,15))\n",
    "import matplotlib as mpl\n",
    "mpl.rcParams['figure.dpi']= 250\n",
    "for i in range(10):\n",
    "    axarr[i,0].set_axis_off()\n",
    "    axarr[i,1].set_axis_off()\n",
    "    axarr[i,2].set_axis_off()\n",
    "    axarr[i,0].imshow(original_images[i].reshape([28, 28]), cmap = \"gray\")\n",
    "    axarr[i,1].imshow((adv_img_hist[0][i] - original_images[i]).reshape([28, 28]), cmap = \"gray\")\n",
    "    axarr[i,2].imshow((adv_img_hist[0][i]).reshape([28, 28]), cmap=\"gray\")\n",
    "    \n",
    "plt.tight_layout()\n",
    "plt.show()\n",
    "f.savefig(\"result.png\")"
   ]
  },
  {
   "cell_type": "code",
   "execution_count": null,
   "metadata": {},
   "outputs": [],
   "source": []
  },
  {
   "cell_type": "code",
   "execution_count": null,
   "metadata": {},
   "outputs": [],
   "source": []
  }
 ],
 "metadata": {
  "kernelspec": {
   "display_name": "Python 3",
   "language": "python",
   "name": "python3"
  },
  "language_info": {
   "codemirror_mode": {
    "name": "ipython",
    "version": 3
   },
   "file_extension": ".py",
   "mimetype": "text/x-python",
   "name": "python",
   "nbconvert_exporter": "python",
   "pygments_lexer": "ipython3",
   "version": "3.6.4"
  }
 },
 "nbformat": 4,
 "nbformat_minor": 2
}
