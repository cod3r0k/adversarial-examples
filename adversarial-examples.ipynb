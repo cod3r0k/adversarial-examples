{
 "cells": [
  {
   "cell_type": "code",
   "execution_count": 12,
   "metadata": {},
   "outputs": [],
   "source": [
    "import tensorflow as tf\n",
    "import numpy as np\n",
    "import matplotlib.pyplot as plt\n",
    "%matplotlib inline\n",
    "from tensorflow.examples.tutorials.mnist import input_data\n",
    "from tqdm import tqdm"
   ]
  },
  {
   "cell_type": "code",
   "execution_count": 2,
   "metadata": {},
   "outputs": [
    {
     "name": "stdout",
     "output_type": "stream",
     "text": [
      "Extracting MNIST_data/train-labels-idx1-ubyte.gz\n",
      "Extracting MNIST_data/t10k-images-idx3-ubyte.gz\n",
      "Extracting MNIST_data/t10k-labels-idx1-ubyte.gz\n"
     ]
    }
   ],
   "source": [
    "#Read the input data\n",
    "mnist = input_data.read_data_sets(\"MNIST_data/\", one_hot=True)"
   ]
  },
  {
   "cell_type": "code",
   "execution_count": 3,
   "metadata": {},
   "outputs": [
    {
     "name": "stdout",
     "output_type": "stream",
     "text": [
      "Training image shape (55000, 784)\n",
      "Training labels shape (55000, 10)\n",
      "Shape of an image (1, 784)\n"
     ]
    },
    {
     "data": {
      "text/plain": [
       "<matplotlib.image.AxesImage at 0x7f439c987fd0>"
      ]
     },
     "execution_count": 3,
     "metadata": {},
     "output_type": "execute_result"
    },
    {
     "data": {
      "image/png": "[encoded data removed]",
      "text/plain": [
       "<matplotlib.figure.Figure at 0x7f439e9b3518>"
      ]
     },
     "metadata": {},
     "output_type": "display_data"
    }
   ],
   "source": [
    "#Explore the data\n",
    "sample_image = mnist.train.next_batch(1)[0]\n",
    "print(\"Training image shape\", mnist.train.images.shape)\n",
    "print(\"Training labels shape\", mnist.train.labels.shape)\n",
    "print(\"Shape of an image\", sample_image.shape)\n",
    "sample_image = sample_image.reshape([28, 28])\n",
    "plt.imshow(sample_image)"
   ]
  },
  {
   "cell_type": "code",
   "execution_count": 4,
   "metadata": {},
   "outputs": [],
   "source": [
    "image_size = 28\n",
    "labels_size = 10\n",
    "learning_rate = 0.05\n",
    "steps_number = 1000\n",
    "batch_size = 100"
   ]
  },
  {
   "cell_type": "code",
   "execution_count": 5,
   "metadata": {},
   "outputs": [],
   "source": [
    "# Placeholder is a value that we input when we ask TensorFlow to run a computation.\n",
    "x = tf.placeholder(tf.float32, shape = [None,784])\n",
    "y_ = tf.placeholder(tf.float32, shape = [None, 10])"
   ]
  },
  {
   "cell_type": "code",
   "execution_count": 6,
   "metadata": {},
   "outputs": [],
   "source": [
    "# Functions for weights\n",
    "def weight_variable(shape):\n",
    "    initial = tf.truncated_normal(shape, stddev=0.1)\n",
    "    return tf.Variable(initial)\n",
    "\n",
    "# Function for bias\n",
    "def bias_variable(shape):\n",
    "    initial = tf.constant(0.1, shape=shape)\n",
    "    return tf.Variable(initial)\n",
    "\n",
    "# Functions for convolution with stride = 1 and padding = 0\n",
    "def conv2d(x, W):\n",
    "    return tf.nn.conv2d(x, W, strides=[1,1,1,1], padding='SAME')\n",
    "\n",
    "# Function for max pooling over 2*2 blocks\n",
    "def max_pooling_2x2(x):\n",
    "    return tf.nn.max_pool(x, ksize=[1,2,2,1], strides=[1,2,2,1], padding='SAME')"
   ]
  },
  {
   "cell_type": "code",
   "execution_count": 7,
   "metadata": {},
   "outputs": [],
   "source": [
    "# The architecture is similar to https://www.tensorflow.org/get_started/mnist/pros\n",
    "\n",
    "# Input layer where single input image shape is (1,784)\n",
    "x_image = tf.reshape(x, [-1,28,28,1])\n",
    "\n",
    "# Convolution layer 1 - 32 x 5 x 5 \n",
    "# Conv -> BatchNorm -> Relu -> Max_pool\n",
    "W_conv1 = weight_variable([5, 5, 1, 32])\n",
    "b_conv1 = bias_variable([32])\n",
    "x_conv1 = conv2d(x_image, W_conv1) + b_conv1\n",
    "y1 = tf.nn.relu(tf.layers.batch_normalization(x_conv1))\n",
    "x_pool1 = max_pooling_2x2(y1)\n",
    "\n",
    "# Conv layer 2 - 64 x 5 x 5\n",
    "# Conv -> BatchNorm -> Relu -> Max_pool\n",
    "W_conv2 = weight_variable([5, 5, 32, 64])\n",
    "b_conv2 = bias_variable([64])\n",
    "x_conv2 = conv2d(x_pool1, W_conv2) + b_conv2\n",
    "y2 = tf.nn.relu(tf.layers.batch_normalization(x_conv2))\n",
    "x_pool2 = max_pooling_2x2(y2)\n",
    "\n",
    "# Flatten \n",
    "x_flat = tf.reshape(x_pool2, [-1, 7 * 7 * 64])\n",
    "\n",
    "# Dense fully connected layer\n",
    "W_fc1 = weight_variable([7 * 7 * 64, 1024]) # max pooling reduced image to 7x7\n",
    "b_fc1 = bias_variable([1024])\n",
    "x_fc1 = tf.nn.relu(tf.layers.batch_normalization(tf.matmul(x_flat, W_fc1) + b_fc1))\n",
    "\n",
    "# Dropout\n",
    "keep_prob = tf.placeholder(tf.float32)\n",
    "x_fc1_drop = tf.nn.dropout(x_fc1, keep_prob)\n",
    "\n",
    "# Classification layer\n",
    "W_fc2 = weight_variable([1024, 10])\n",
    "b_fc2 = bias_variable([10])\n",
    "y_conv = tf.matmul(x_fc1_drop, W_fc2) + b_fc2"
   ]
  },
  {
   "cell_type": "code",
   "execution_count": 8,
   "metadata": {},
   "outputs": [],
   "source": [
    "# Probabilities output from model\n",
    "y = tf.nn.softmax(y_conv)\n",
    "\n",
    "# Loss and Adam optimizer\n",
    "cross_entropy = tf.reduce_mean(tf.nn.softmax_cross_entropy_with_logits(labels = y_, logits=y_conv))\n",
    "train_step = tf.train.AdamOptimizer(1e-4).minimize(cross_entropy)"
   ]
  },
  {
   "cell_type": "code",
   "execution_count": 9,
   "metadata": {},
   "outputs": [],
   "source": [
    "# Test accuracy of model\n",
    "correct_prediction = tf.equal(tf.argmax(y_conv,1), tf.argmax(y_,1))\n",
    "accuracy = tf.reduce_mean(tf.cast(correct_prediction, tf.float32))"
   ]
  },
  {
   "cell_type": "code",
   "execution_count": 10,
   "metadata": {},
   "outputs": [],
   "source": [
    "sess = sess = tf.InteractiveSession()\n",
    "sess.run(tf.global_variables_initializer())"
   ]
  },
  {
   "cell_type": "code",
   "execution_count": 11,
   "metadata": {},
   "outputs": [
    {
     "name": "stderr",
     "output_type": "stream",
     "text": [
      "\r",
      "  0%|          | 0/1000 [00:00<?, ?it/s]"
     ]
    },
    {
     "name": "stdout",
     "output_type": "stream",
     "text": [
      "Epoch 0, training accuracy 0.07\n"
     ]
    },
    {
     "name": "stderr",
     "output_type": "stream",
     "text": [
      " 20%|██        | 200/1000 [02:11<08:47,  1.52it/s]"
     ]
    },
    {
     "name": "stdout",
     "output_type": "stream",
     "text": [
      "Epoch 200, training accuracy 0.92\n"
     ]
    },
    {
     "name": "stderr",
     "output_type": "stream",
     "text": [
      " 40%|████      | 400/1000 [04:15<06:23,  1.56it/s]"
     ]
    },
    {
     "name": "stdout",
     "output_type": "stream",
     "text": [
      "Epoch 400, training accuracy 0.97\n"
     ]
    },
    {
     "name": "stderr",
     "output_type": "stream",
     "text": [
      " 60%|██████    | 600/1000 [06:12<04:08,  1.61it/s]"
     ]
    },
    {
     "name": "stdout",
     "output_type": "stream",
     "text": [
      "Epoch 600, training accuracy 0.96\n"
     ]
    },
    {
     "name": "stderr",
     "output_type": "stream",
     "text": [
      " 80%|████████  | 800/1000 [08:19<02:04,  1.60it/s]"
     ]
    },
    {
     "name": "stdout",
     "output_type": "stream",
     "text": [
      "Epoch 800, training accuracy 0.98\n"
     ]
    },
    {
     "name": "stderr",
     "output_type": "stream",
     "text": [
      "100%|██████████| 1000/1000 [10:14<00:00,  1.63it/s]\n"
     ]
    }
   ],
   "source": [
    "# Train model\n",
    "for i in tqdm(range(1000)):\n",
    "    batch = mnist.train.next_batch(100)\n",
    "    if i%200 == 0:\n",
    "        train_accuracy = accuracy.eval(feed_dict={x:batch[0], y_: batch[1], keep_prob: 1.0})\n",
    "        print(\"Epoch %d, training accuracy %g\"%(i, train_accuracy))\n",
    "\n",
    "    train_step.run(feed_dict={x: batch[0], y_: batch[1], keep_prob: 0.4})"
   ]
  },
  {
   "cell_type": "code",
   "execution_count": 13,
   "metadata": {},
   "outputs": [
    {
     "name": "stdout",
     "output_type": "stream",
     "text": [
      "0.98\n",
      "[ 0.  1.  0. ...,  0.  0.  0.]\n"
     ]
    }
   ],
   "source": [
    "print(train_accuracy)\n",
    "print((mnist.test.labels[:,2]))"
   ]
  },
  {
   "cell_type": "code",
   "execution_count": 14,
   "metadata": {},
   "outputs": [
    {
     "name": "stdout",
     "output_type": "stream",
     "text": [
      "[   1   35   38 ..., 9980 9985 9995]\n",
      "[7773 3337  256 9700 4905    1 1335 6912 4905 3658]\n"
     ]
    }
   ],
   "source": [
    "# Fetch 10 2's images\n",
    "index_mask = np.where(mnist.test.labels[:, 2])[0]\n",
    "print(index_mask)\n",
    "subset_mask = np.random.choice(index_mask, 10)\n",
    "print(subset_mask)"
   ]
  },
  {
   "cell_type": "code",
   "execution_count": 15,
   "metadata": {},
   "outputs": [
    {
     "data": {
      "text/plain": [
       "array([[ 0.,  0.,  1.,  0.,  0.,  0.,  0.,  0.,  0.,  0.],\n",
       "       [ 0.,  0.,  1.,  0.,  0.,  0.,  0.,  0.,  0.,  0.],\n",
       "       [ 0.,  0.,  1.,  0.,  0.,  0.,  0.,  0.,  0.,  0.],\n",
       "       [ 0.,  0.,  1.,  0.,  0.,  0.,  0.,  0.,  0.,  0.],\n",
       "       [ 0.,  0.,  1.,  0.,  0.,  0.,  0.,  0.,  0.,  0.],\n",
       "       [ 0.,  0.,  1.,  0.,  0.,  0.,  0.,  0.,  0.,  0.],\n",
       "       [ 0.,  0.,  1.,  0.,  0.,  0.,  0.,  0.,  0.,  0.],\n",
       "       [ 0.,  0.,  1.,  0.,  0.,  0.,  0.,  0.,  0.,  0.],\n",
       "       [ 0.,  0.,  1.,  0.,  0.,  0.,  0.,  0.,  0.,  0.],\n",
       "       [ 0.,  0.,  1.,  0.,  0.,  0.,  0.,  0.,  0.,  0.]])"
      ]
     },
     "execution_count": 15,
     "metadata": {},
     "output_type": "execute_result"
    }
   ],
   "source": [
    "# Display the labels of the selected images\n",
    "original_images = mnist.test.images[subset_mask]\n",
    "original_labels = mnist.test.labels[subset_mask]\n",
    "original_labels"
   ]
  },
  {
   "cell_type": "code",
   "execution_count": 16,
   "metadata": {},
   "outputs": [
    {
     "name": "stdout",
     "output_type": "stream",
     "text": [
      "predictions [2 2 2 2 2 2 2 2 2 2]\n",
      "probabilities [[  1.80184472e-08   2.48554414e-07   9.99968886e-01   2.06626992e-05\n",
      "    1.39595553e-08   1.19057422e-08   1.17486234e-08   3.67838112e-07\n",
      "    9.69587927e-06   8.42286525e-08]\n",
      " [  5.98078941e-06   1.14633935e-03   9.92992759e-01   3.69481859e-03\n",
      "    7.15021888e-05   1.79985636e-06   1.22775773e-05   1.94821949e-03\n",
      "    1.25680323e-04   5.43590659e-07]\n",
      " [  3.90892728e-06   1.33079127e-03   9.88985181e-01   9.58858058e-03\n",
      "    1.82187335e-07   1.36868421e-05   6.68735129e-06   2.74513932e-05\n",
      "    4.30074506e-05   5.21108291e-07]\n",
      " [  8.82295053e-03   1.17119215e-01   4.05954808e-01   1.44047663e-02\n",
      "    2.78738961e-02   1.40215501e-01   9.19287428e-02   2.29721665e-02\n",
      "    1.67625353e-01   3.08262371e-03]\n",
      " [  5.07109064e-07   3.88321405e-06   9.99620080e-01   3.41601786e-04\n",
      "    1.86335865e-06   6.99103452e-07   1.98540082e-08   1.09865896e-05\n",
      "    2.03393283e-05   5.92759477e-08]\n",
      " [  1.38996875e-05   3.11168464e-04   9.99208868e-01   2.80713255e-04\n",
      "    1.91374227e-07   3.08957215e-06   4.59803705e-05   3.46723859e-08\n",
      "    1.36105868e-04   1.22150832e-08]\n",
      " [  1.21581847e-08   1.80443894e-05   9.99906898e-01   7.37338414e-05\n",
      "    1.80624049e-08   4.13570902e-08   4.85683358e-07   7.29147516e-08\n",
      "    7.03589990e-07   2.31620745e-09]\n",
      " [  2.54539955e-05   2.17625732e-03   9.83406305e-01   3.54276854e-03\n",
      "    1.04893305e-04   9.95041919e-05   4.00346005e-04   9.86178592e-03\n",
      "    3.78574507e-04   4.07607013e-06]\n",
      " [  5.07109064e-07   3.88321405e-06   9.99620080e-01   3.41601786e-04\n",
      "    1.86335865e-06   6.99103452e-07   1.98540082e-08   1.09865896e-05\n",
      "    2.03393101e-05   5.92760614e-08]\n",
      " [  1.35765947e-06   6.38431218e-03   9.92475569e-01   3.28587979e-04\n",
      "    1.34965569e-06   3.83937413e-06   1.38405221e-05   5.48408607e-05\n",
      "    7.34071597e-04   2.24478754e-06]]\n"
     ]
    }
   ],
   "source": [
    "# Predict the model on the selected 10 2's samples\n",
    "prediction = tf.argmax(y,1)\n",
    "prediction_val = prediction.eval(feed_dict={x: original_images, keep_prob: 1.0}, session=sess)\n",
    "print(\"predictions\", prediction_val)\n",
    "probabilities = y\n",
    "probabilities_val = probabilities.eval(feed_dict={x: original_images, keep_prob: 1.0}, session=sess)\n",
    "print (\"probabilities\", probabilities_val)"
   ]
  },
  {
   "cell_type": "code",
   "execution_count": 17,
   "metadata": {},
   "outputs": [
    {
     "name": "stdout",
     "output_type": "stream",
     "text": [
      "Correct label 2\n",
      "Predicted label: 2\n",
      "Confidence: 0.999969\n"
     ]
    },
    {
     "data": {
      "image/png": "[encoded data removed]",
      "text/plain": [
       "<matplotlib.figure.Figure at 0x7f439c4d9400>"
      ]
     },
     "metadata": {},
     "output_type": "display_data"
    },
    {
     "name": "stdout",
     "output_type": "stream",
     "text": [
      "Correct label 2\n",
      "Predicted label: 2\n",
      "Confidence: 0.992993\n"
     ]
    },
    {
     "data": {
      "image/png": "[encoded data removed]",
      "text/plain": [
       "<matplotlib.figure.Figure at 0x7f439c476320>"
      ]
     },
     "metadata": {},
     "output_type": "display_data"
    },
    {
     "name": "stdout",
     "output_type": "stream",
     "text": [
      "Correct label 2\n",
      "Predicted label: 2\n",
      "Confidence: 0.988985\n"
     ]
    },
    {
     "data": {
      "image/png": "[encoded data removed]",
      "text/plain": [
       "<matplotlib.figure.Figure at 0x7f439c44b4e0>"
      ]
     },
     "metadata": {},
     "output_type": "display_data"
    },
    {
     "name": "stdout",
     "output_type": "stream",
     "text": [
      "Correct label 2\n",
      "Predicted label: 2\n",
      "Confidence: 0.405955\n"
     ]
    },
    {
     "data": {
      "image/png": "[encoded data removed]",
      "text/plain": [
       "<matplotlib.figure.Figure at 0x7f439c413c50>"
      ]
     },
     "metadata": {},
     "output_type": "display_data"
    },
    {
     "name": "stdout",
     "output_type": "stream",
     "text": [
      "Correct label 2\n",
      "Predicted label: 2\n",
      "Confidence: 0.99962\n"
     ]
    },
    {
     "data": {
      "image/png": "[encoded data removed]",
      "text/plain": [
       "<matplotlib.figure.Figure at 0x7f439c3b9898>"
      ]
     },
     "metadata": {},
     "output_type": "display_data"
    },
    {
     "name": "stdout",
     "output_type": "stream",
     "text": [
      "Correct label 2\n",
      "Predicted label: 2\n",
      "Confidence: 0.999209\n"
     ]
    },
    {
     "data": {
      "image/png": "[encoded data removed]",
      "text/plain": [
       "<matplotlib.figure.Figure at 0x7f439c48fd68>"
      ]
     },
     "metadata": {},
     "output_type": "display_data"
    },
    {
     "name": "stdout",
     "output_type": "stream",
     "text": [
      "Correct label 2\n",
      "Predicted label: 2\n",
      "Confidence: 0.999907\n"
     ]
    },
    {
     "data": {
      "image/png": "[encoded data removed]",
      "text/plain": [
       "<matplotlib.figure.Figure at 0x7f439c496ac8>"
      ]
     },
     "metadata": {},
     "output_type": "display_data"
    },
    {
     "name": "stdout",
     "output_type": "stream",
     "text": [
      "Correct label 2\n",
      "Predicted label: 2\n",
      "Confidence: 0.983406\n"
     ]
    },
    {
     "data": {
      "image/png": "[encoded data removed]",
      "text/plain": [
       "<matplotlib.figure.Figure at 0x7f439c3657f0>"
      ]
     },
     "metadata": {},
     "output_type": "display_data"
    },
    {
     "name": "stdout",
     "output_type": "stream",
     "text": [
      "Correct label 2\n",
      "Predicted label: 2\n",
      "Confidence: 0.99962\n"
     ]
    },
    {
     "data": {
      "image/png": "[encoded data removed]",
      "text/plain": [
       "<matplotlib.figure.Figure at 0x7f439c350e80>"
      ]
     },
     "metadata": {},
     "output_type": "display_data"
    },
    {
     "name": "stdout",
     "output_type": "stream",
     "text": [
      "Correct label 2\n",
      "Predicted label: 2\n",
      "Confidence: 0.992476\n"
     ]
    },
    {
     "data": {
      "image/png": "[encoded data removed]",
      "text/plain": [
       "<matplotlib.figure.Figure at 0x7f439c2f7860>"
      ]
     },
     "metadata": {},
     "output_type": "display_data"
    }
   ],
   "source": [
    "# Show the original images, correct, predicted label and confidence\n",
    "for i in range(0, 10):\n",
    "    print('Correct label', np.argmax(original_labels[i]))\n",
    "    print('Predicted label:', prediction_val[i])\n",
    "    print('Confidence:', np.max(probabilities_val[i]))\n",
    "    plt.figure(figsize=(2, 2))\n",
    "    plt.axis('off')\n",
    "    plt.imshow(original_images[i].reshape([28, 28]),cmap = \"gray\")\n",
    "    plt.show()"
   ]
  },
  {
   "cell_type": "code",
   "execution_count": 18,
   "metadata": {},
   "outputs": [],
   "source": [
    "# Set the target label as 6\n",
    "target_number = 6\n",
    "target_labels = np.zeros(original_labels.shape)\n",
    "target_labels[:, target_number] = 1"
   ]
  },
  {
   "cell_type": "code",
   "execution_count": 19,
   "metadata": {},
   "outputs": [
    {
     "data": {
      "text/plain": [
       "array([[ 0.,  0.,  0.,  0.,  0.,  0.,  1.,  0.,  0.,  0.],\n",
       "       [ 0.,  0.,  0.,  0.,  0.,  0.,  1.,  0.,  0.,  0.],\n",
       "       [ 0.,  0.,  0.,  0.,  0.,  0.,  1.,  0.,  0.,  0.],\n",
       "       [ 0.,  0.,  0.,  0.,  0.,  0.,  1.,  0.,  0.,  0.],\n",
       "       [ 0.,  0.,  0.,  0.,  0.,  0.,  1.,  0.,  0.,  0.],\n",
       "       [ 0.,  0.,  0.,  0.,  0.,  0.,  1.,  0.,  0.,  0.],\n",
       "       [ 0.,  0.,  0.,  0.,  0.,  0.,  1.,  0.,  0.,  0.],\n",
       "       [ 0.,  0.,  0.,  0.,  0.,  0.,  1.,  0.,  0.,  0.],\n",
       "       [ 0.,  0.,  0.,  0.,  0.,  0.,  1.,  0.,  0.,  0.],\n",
       "       [ 0.,  0.,  0.,  0.,  0.,  0.,  1.,  0.,  0.,  0.]])"
      ]
     },
     "execution_count": 19,
     "metadata": {},
     "output_type": "execute_result"
    }
   ],
   "source": [
    "target_labels"
   ]
  },
  {
   "cell_type": "code",
   "execution_count": 20,
   "metadata": {},
   "outputs": [],
   "source": [
    "img_gradient = tf.gradients(cross_entropy, x)[0]"
   ]
  },
  {
   "cell_type": "code",
   "execution_count": 21,
   "metadata": {},
   "outputs": [],
   "source": [
    "step_size = 0.5 #The amount to wiggle towards the gradient of target class.\n",
    "steps = 10"
   ]
  },
  {
   "cell_type": "code",
   "execution_count": 22,
   "metadata": {},
   "outputs": [
    {
     "name": "stdout",
     "output_type": "stream",
     "text": [
      "predictions [2 2 2 6 2 2 2 2 2 2]\n",
      "Confidence 2: [ 0.99975914  0.94977903  0.95068485  0.17461015  0.99771428  0.99432278\n",
      "  0.99942976  0.95363617  0.99771428  0.94765103]\n",
      "Confidence 6: [  5.68950554e-07   3.90985631e-04   1.14369752e-04   3.76498550e-01\n",
      "   8.74334432e-07   1.56716432e-03   1.55653051e-05   5.27816918e-03\n",
      "   8.74333637e-07   4.15910006e-04]\n",
      "predictions [2 2 2 6 2 2 2 2 2 2]\n",
      "Confidence 2: [ 0.99806958  0.74058509  0.78998768  0.07288979  0.98630446  0.91312748\n",
      "  0.99631929  0.80182409  0.98630446  0.806925  ]\n",
      "Confidence 6: [  2.36430315e-05   7.48124858e-03   2.31651380e-03   6.96408629e-01\n",
      "   3.79456505e-05   6.12999760e-02   4.41616285e-04   7.58640245e-02\n",
      "   3.79455741e-05   8.90214089e-03]\n",
      "predictions [2 2 2 6 2 6 2 2 2 2]\n",
      "Confidence 2: [ 0.98661405  0.46559685  0.57674742  0.04258141  0.94365585  0.37554571\n",
      "  0.97691572  0.4142516   0.94365597  0.5709092 ]\n",
      "Confidence 6: [  6.61006896e-04   4.61501069e-02   2.41652876e-02   8.16159904e-01\n",
      "   7.17321585e-04   5.74553668e-01   8.07931367e-03   4.01631534e-01\n",
      "   7.17321003e-04   9.99794006e-02]\n",
      "predictions [2 2 2 6 2 6 2 6 2 6]\n",
      "Confidence 2: [ 0.94541216  0.36529303  0.37502229  0.03050848  0.82718462  0.13821077\n",
      "  0.84015542  0.17836012  0.8271845   0.33926201]\n",
      "Confidence 6: [ 0.00767889  0.14855629  0.13961238  0.86594146  0.0071426   0.82928556\n",
      "  0.10268419  0.69218844  0.00714261  0.37103891]\n",
      "predictions [2 6 6 6 2 6 6 6 2 6]\n",
      "Confidence 2: [ 0.82958293  0.26375544  0.2260112   0.02377293  0.62840885  0.08806673\n",
      "  0.43466648  0.10990681  0.62840903  0.18793789]\n",
      "Confidence 6: [ 0.05099608  0.31568283  0.39407006  0.89425224  0.04071802  0.8865729\n",
      "  0.47959545  0.79525644  0.04071798  0.62624907]\n",
      "predictions [2 6 6 6 2 6 6 6 2 6]\n",
      "Confidence 2: [ 0.63520092  0.18515286  0.14713629  0.01954709  0.43162158  0.06567686\n",
      "  0.20478316  0.08059962  0.43162155  0.12239116]\n",
      "Confidence 6: [ 0.18123198  0.49179763  0.59498304  0.91252404  0.1371749   0.91296756\n",
      "  0.7274965   0.8433364   0.13717507  0.7474966 ]\n",
      "predictions [2 6 6 6 6 6 6 6 6 6]\n",
      "Confidence 2: [ 0.42093679  0.1321512   0.10268553  0.01653216  0.28725651  0.05311119\n",
      "  0.13208687  0.06386223  0.28725645  0.0903725 ]\n",
      "Confidence 6: [ 0.3926717   0.62240672  0.70897847  0.92507452  0.3114171   0.9280113\n",
      "  0.81320995  0.87184978  0.31141716  0.80960286]\n",
      "predictions [6 6 6 6 6 6 6 6 6 6]\n",
      "Confidence 2: [ 0.27896315  0.09914555  0.07746766  0.01436632  0.19619101  0.04446124\n",
      "  0.10003524  0.05314985  0.19619074  0.07152694]\n",
      "Confidence 6: [ 0.56789058  0.70756537  0.77618855  0.93436539  0.48043039  0.93857819\n",
      "  0.85354137  0.89101076  0.48043063  0.84708714]\n",
      "predictions [6 6 6 6 6 6 6 6 6 6]\n",
      "Confidence 2: [ 0.2045984   0.07802073  0.06222671  0.01274245  0.13540033  0.03825734\n",
      "  0.07920893  0.04572452  0.13540049  0.05986047]\n",
      "Confidence 6: [ 0.66907787  0.76501513  0.81782365  0.94129467  0.60087985  0.94625366\n",
      "  0.8805539   0.90458971  0.60087943  0.87085712]\n",
      "predictions [6 6 6 6 6 6 6 6 6 6]\n",
      "Confidence 2: [ 0.15751547  0.06474616  0.05255578  0.01148294  0.10314074  0.03363912\n",
      "  0.06622147  0.04029261  0.1031408   0.0514384 ]\n",
      "Confidence 6: [ 0.73819101  0.80324399  0.84521931  0.9467476   0.68063289  0.95205599\n",
      "  0.89787394  0.91469634  0.68063301  0.88801545]\n"
     ]
    }
   ],
   "source": [
    "#Targeted attack using Fast gradient sign method inspired from http://blog.ycombinator.com/how-adversarial-attacks-work/\n",
    "# and http://karpathy.github.io/2015/03/30/breaking-convnets/\n",
    "adversarial_img = original_images.copy()\n",
    "for i in range(0, steps):\n",
    "    gradient = img_gradient.eval({x: adversarial_img, y_: target_labels, keep_prob: 1.0})\n",
    "    #Update using value of gradient\n",
    "    adversarial_img = adversarial_img - step_size * gradient\n",
    "    prediction = tf.argmax(y,1)\n",
    "    prediction_val = prediction.eval(feed_dict={x: adversarial_img, keep_prob: 1.0}, session=sess)\n",
    "    print(\"predictions\", prediction_val)\n",
    "    probabilities = y\n",
    "    probabilities_val = probabilities.eval(feed_dict={x: adversarial_img, keep_prob: 1.0}, session=sess)\n",
    "    print('Confidence 2:', probabilities_val[:, 2])\n",
    "    print('Confidence 6:', probabilities_val[:, 6])"
   ]
  },
  {
   "cell_type": "code",
   "execution_count": 23,
   "metadata": {},
   "outputs": [],
   "source": [
    "step_size = 0.02\n",
    "steps = 10"
   ]
  },
  {
   "cell_type": "code",
   "execution_count": 24,
   "metadata": {},
   "outputs": [
    {
     "name": "stdout",
     "output_type": "stream",
     "text": [
      "predictions [2 2 2 6 2 2 2 2 2 2]\n",
      "Confidence 2: [ 0.99983907  0.96345907  0.95229656  0.14154619  0.99819499  0.99511492\n",
      "  0.99955064  0.95911592  0.99819499  0.96458191]\n",
      "Confidence 6: [  3.17459921e-07   1.88384234e-04   9.14600460e-05   3.65022719e-01\n",
      "   4.87396562e-07   1.03932037e-03   8.48577292e-06   3.26479785e-03\n",
      "   4.87396562e-07   2.24646385e-04]\n",
      "predictions [2 2 2 6 2 2 2 2 2 2]\n",
      "Confidence 2: [ 0.99904102  0.83246309  0.84029239  0.03506834  0.99134594  0.95698881\n",
      "  0.99779058  0.84337634  0.99134594  0.87553167]\n",
      "Confidence 6: [  8.24675772e-06   3.35220341e-03   1.77920761e-03   8.26140523e-01\n",
      "   1.38223959e-05   2.32670009e-02   1.69493709e-04   4.99701090e-02\n",
      "   1.38223959e-05   4.03320882e-03]\n",
      "predictions [2 2 2 6 2 2 2 2 2 2]\n",
      "Confidence 2: [ 0.99448591  0.53140134  0.57395995  0.00561629  0.97493309  0.64969152\n",
      "  0.98813677  0.50775552  0.97493309  0.67416036]\n",
      "Confidence 6: [  2.02186129e-04   2.87170447e-02   2.05911398e-02   9.74984407e-01\n",
      "   2.13847306e-04   2.96728104e-01   2.97082029e-03   2.87882984e-01\n",
      "   2.13847306e-04   5.14744371e-02]\n",
      "predictions [2 2 2 6 2 6 2 6 2 6]\n",
      "Confidence 2: [ 0.97132438  0.30914065  0.34751904  0.00098497  0.91873878  0.11761576\n",
      "  0.93024552  0.13654207  0.91873878  0.3367359 ]\n",
      "Confidence 6: [ 0.0030288   0.1656794   0.16752063  0.99505496  0.00271201  0.84371263\n",
      "  0.03492421  0.74066371  0.00271201  0.34476715]\n",
      "predictions [2 6 6 6 2 6 2 6 2 6]\n",
      "Confidence 2: [  8.83341849e-01   1.58559009e-01   1.54584333e-01   1.68654587e-04\n",
      "   7.39216089e-01   9.82596539e-03   6.52517140e-01   2.34168097e-02\n",
      "   7.39216089e-01   1.05729349e-01]\n",
      "Confidence 6: [ 0.02946016  0.48321831  0.60065758  0.9990682   0.02725391  0.98164868\n",
      "  0.27633595  0.94743621  0.02725391  0.7657451 ]\n",
      "predictions [2 6 6 6 2 6 6 6 2 6]\n",
      "Confidence 2: [  6.27961099e-01   4.94564250e-02   3.64183374e-02   4.18938907e-05\n",
      "   4.54054564e-01   8.28402815e-04   1.56915948e-01   4.08029230e-03\n",
      "   4.54054564e-01   1.75560862e-02]\n",
      "Confidence 6: [ 0.18651891  0.81865382  0.88181943  0.99977344  0.15788481  0.99740285\n",
      "  0.77992874  0.9890765   0.15788481  0.95327443]\n",
      "predictions [6 6 6 6 6 6 6 6 6 6]\n",
      "Confidence 2: [  2.80306935e-01   1.04815438e-02   8.16387590e-03   1.08382301e-05\n",
      "   1.86051100e-01   1.21385005e-04   2.09635831e-02   7.10459950e-04\n",
      "   1.86051100e-01   3.42362141e-03]\n",
      "Confidence 6: [ 0.5664404   0.94977933  0.9681741   0.99994314  0.46825749  0.99961495\n",
      "  0.95985353  0.99782616  0.46825749  0.9899419 ]\n",
      "predictions [6 6 6 6 6 6 6 6 6 6]\n",
      "Confidence 2: [  7.75434896e-02   3.34675354e-03   2.81164167e-03   3.20145523e-06\n",
      "   7.20602721e-02   2.54010356e-05   4.06206632e-03   1.45450496e-04\n",
      "   7.20602721e-02   7.39450799e-04]\n",
      "Confidence 6: [ 0.85807467  0.98622674  0.99077457  0.99998474  0.77422291  0.99992013\n",
      "  0.99048775  0.99954093  0.77422291  0.99789512]\n",
      "predictions [6 6 6 6 6 6 6 6 6 6]\n",
      "Confidence 2: [  1.88640971e-02   8.26362753e-04   7.69379840e-04   9.24787116e-07\n",
      "   2.31615286e-02   5.13918530e-06   6.82467653e-04   2.98564628e-05\n",
      "   2.31615286e-02   1.36163362e-04]\n",
      "Confidence 6: [ 0.9614414   0.9960075   0.99692482  0.99999547  0.91971022  0.9999814\n",
      "  0.99829584  0.99989426  0.91971022  0.99958521]\n",
      "predictions [6 6 6 6 6 6 6 6 6 6]\n",
      "Confidence 2: [  5.19961584e-03   1.57214366e-04   2.55639345e-04   2.19594938e-07\n",
      "   8.27891286e-03   1.06333835e-06   1.36780291e-04   7.09484357e-06\n",
      "   8.27891286e-03   2.66365369e-05]\n",
      "Confidence 6: [ 0.98842037  0.99902582  0.9990114   0.99999881  0.97181183  0.99999595\n",
      "  0.9995988   0.99997497  0.97181183  0.99990582]\n"
     ]
    }
   ],
   "source": [
    "adversarial_img = original_images.copy()\n",
    "adv_img_hist = list()\n",
    "prob2_hist = list()\n",
    "prob6_hist = list()\n",
    "for i in range(0, steps):\n",
    "    gradient = img_gradient.eval({x: adversarial_img, y_: target_labels, keep_prob: 1.0})\n",
    "    # Update using sign of gradient and decreasing the step size\n",
    "    adversarial_img = adversarial_img - step_size * np.sign(gradient)\n",
    "    adv_img_hist.append(adversarial_img)\n",
    "    prediction = tf.argmax(y,1)\n",
    "    prediction_val = prediction.eval(feed_dict={x: adversarial_img, keep_prob: 1.0}, session=sess)\n",
    "    print(\"predictions\", prediction_val)\n",
    "    probabilities = y\n",
    "    probabilities_val = probabilities.eval(feed_dict = {x: adversarial_img, keep_prob: 1.0}, session=sess)\n",
    "    print('Confidence 2:', probabilities_val[:, 2])\n",
    "    print('Confidence 6:', probabilities_val[:, 6])\n",
    "prob2_hist.append(probabilities_val[:,2])\n",
    "prob6_hist.append(probabilities_val[:,6])"
   ]
  },
  {
   "cell_type": "code",
   "execution_count": 25,
   "metadata": {},
   "outputs": [
    {
     "name": "stdout",
     "output_type": "stream",
     "text": [
      "Probability of 2 in selected samples  [array([  5.19961584e-03,   1.57214366e-04,   2.55639345e-04,\n",
      "         2.19594938e-07,   8.27891286e-03,   1.06333835e-06,\n",
      "         1.36780291e-04,   7.09484357e-06,   8.27891286e-03,\n",
      "         2.66365369e-05], dtype=float32)]\n",
      "Probability of 6 in selected samples  [array([ 0.98842037,  0.99902582,  0.9990114 ,  0.99999881,  0.97181183,\n",
      "        0.99999595,  0.9995988 ,  0.99997497,  0.97181183,  0.99990582], dtype=float32)]\n"
     ]
    }
   ],
   "source": [
    "print(\"Probability of 2 in selected samples \",prob2_hist)\n",
    "print(\"Probability of 6 in selected samples \",prob6_hist)"
   ]
  },
  {
   "cell_type": "code",
   "execution_count": 26,
   "metadata": {},
   "outputs": [
    {
     "data": {
      "image/png": "[encoded data removed]",
      "text/plain": [
       "<matplotlib.figure.Figure at 0x7f439c18ad30>"
      ]
     },
     "metadata": {},
     "output_type": "display_data"
    }
   ],
   "source": [
    "# Generate the image of 10 samples with original_image, delta and adversarial image\n",
    "f, axarr = plt.subplots(10, 3, figsize=(5,15))\n",
    "import matplotlib as mpl\n",
    "mpl.rcParams['figure.dpi']= 250\n",
    "for i in range(10):\n",
    "    axarr[i,0].set_axis_off()\n",
    "    axarr[i,1].set_axis_off()\n",
    "    axarr[i,2].set_axis_off()\n",
    "    axarr[i,0].imshow(original_images[i].reshape([28, 28]), cmap = \"gray\")\n",
    "    axarr[i,1].imshow((adv_img_hist[0][i] - original_images[i]).reshape([28, 28]), cmap = \"gray\")\n",
    "    axarr[i,2].imshow((adv_img_hist[0][i]).reshape([28, 28]), cmap=\"gray\")\n",
    "    \n",
    "plt.tight_layout()\n",
    "plt.show()\n",
    "f.savefig(\"test.png\")"
   ]
  },
  {
   "cell_type": "code",
   "execution_count": null,
   "metadata": {},
   "outputs": [],
   "source": []
  }
 ],
 "metadata": {
  "kernelspec": {
   "display_name": "Python 3",
   "language": "python",
   "name": "python3"
  },
  "language_info": {
   "codemirror_mode": {
    "name": "ipython",
    "version": 3
   },
   "file_extension": ".py",
   "mimetype": "text/x-python",
   "name": "python",
   "nbconvert_exporter": "python",
   "pygments_lexer": "ipython3",
   "version": "3.6.4"
  }
 },
 "nbformat": 4,
 "nbformat_minor": 2
}
